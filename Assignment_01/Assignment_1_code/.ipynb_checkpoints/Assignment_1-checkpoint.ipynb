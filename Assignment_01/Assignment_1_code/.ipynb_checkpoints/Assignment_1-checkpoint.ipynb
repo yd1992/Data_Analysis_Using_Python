{
 "cells": [
  {
   "cell_type": "code",
   "execution_count": 1,
   "metadata": {
    "collapsed": false
   },
   "outputs": [
    {
     "ename": "SyntaxError",
     "evalue": "invalid syntax (<ipython-input-1-5f2c835c3e3d>, line 1)",
     "output_type": "error",
     "traceback": [
      "\u001b[0;36m  File \u001b[0;32m\"<ipython-input-1-5f2c835c3e3d>\"\u001b[0;36m, line \u001b[0;32m1\u001b[0m\n\u001b[0;31m    Question 1\u001b[0m\n\u001b[0m             ^\u001b[0m\n\u001b[0;31mSyntaxError\u001b[0m\u001b[0;31m:\u001b[0m invalid syntax\n"
     ]
    }
   ],
   "source": [
    "Question 1"
   ]
  },
  {
   "cell_type": "code",
   "execution_count": 2,
   "metadata": {
    "collapsed": false
   },
   "outputs": [],
   "source": [
    "list = []\n",
    "for i in range(1, 500):\n",
    "    if (i%7==0) and (i%3==0):\n",
    "        list.append(i)"
   ]
  },
  {
   "cell_type": "code",
   "execution_count": 8,
   "metadata": {
    "collapsed": false
   },
   "outputs": [
    {
     "name": "stdout",
     "output_type": "stream",
     "text": [
      "mean is 252.0\n"
     ]
    }
   ],
   "source": [
    "print \"mean is \" + str(sum(list) / float(len(list)))"
   ]
  },
  {
   "cell_type": "code",
   "execution_count": 10,
   "metadata": {
    "collapsed": false
   },
   "outputs": [
    {
     "name": "stdout",
     "output_type": "stream",
     "text": [
      "25th quartile is 136.5\n",
      "50th quartile is 252.0\n",
      "75th quartile is 367.5\n"
     ]
    }
   ],
   "source": [
    "import numpy as np\n",
    "\n",
    "nlist = np.array(list)\n",
    "print \"25th quartile is \" + str(np.percentile(nlist, 25))\n",
    "print \"50th quartile is \" + str(np.percentile(nlist, 50))\n",
    "print \"75th quartile is \" + str(np.percentile(nlist, 75))"
   ]
  },
  {
   "cell_type": "code",
   "execution_count": null,
   "metadata": {
    "collapsed": true
   },
   "outputs": [],
   "source": [
    "Question 2"
   ]
  },
  {
   "cell_type": "code",
   "execution_count": 27,
   "metadata": {
    "collapsed": false
   },
   "outputs": [
    {
     "name": "stdout",
     "output_type": "stream",
     "text": [
      "The number of words is 309\n"
     ]
    }
   ],
   "source": [
    "file = open('../Assignment_1_Resource/ques2.txt', 'r')\n",
    "\n",
    "wordCount = 0\n",
    "for word in file.read().split():\n",
    "    wordCount += 1\n",
    "\n",
    "file.close()\n",
    "\n",
    "print \"The number of words is \" + str(wordCount)"
   ]
  },
  {
   "cell_type": "code",
   "execution_count": 40,
   "metadata": {
    "collapsed": false
   },
   "outputs": [
    {
     "name": "stdout",
     "output_type": "stream",
     "text": [
      "average is 6.40414507772\n",
      "median is 6\n",
      "mode is [(4, 26)]\n"
     ]
    }
   ],
   "source": [
    "file = open('../Assignment_1_Resource/ques2.txt', 'r')\n",
    "\n",
    "wordLengthDic = {}\n",
    "\n",
    "for word in file.read().split():\n",
    "    if word not in wordLengthDic:\n",
    "        wordLengthDic[word] = len(word)\n",
    "\n",
    "file.close()\n",
    "\n",
    "vlist = wordLengthDic.values()\n",
    "\n",
    "print \"average is \" + str(sum(vlist) / float(len(vlist)))\n",
    "\n",
    "median = 0\n",
    "vlist = sorted(vlist)\n",
    "\n",
    "mid = len(vlist)//2\n",
    "if len(vlist) % 2:\n",
    "    median = vlist[mid]\n",
    "else:\n",
    "    median = (vlist[mid] + vlist[mid-1]) / 2  \n",
    "print \"median is \" + str(median)\n",
    "\n",
    "from collections import Counter\n",
    "\n",
    "modeCount = Counter(vlist)\n",
    "mode = modeCount.most_common(1)\n",
    "\n",
    "print \"mode is \" + str(mode)"
   ]
  },
  {
   "cell_type": "code",
   "execution_count": null,
   "metadata": {
    "collapsed": true
   },
   "outputs": [],
   "source": [
    "Question 3"
   ]
  },
  {
   "cell_type": "code",
   "execution_count": 4,
   "metadata": {
    "collapsed": false
   },
   "outputs": [
    {
     "name": "stdout",
     "output_type": "stream",
     "text": [
      "The 1th random entry is w95QhHrT1B2h695 : 1\n",
      "The 2th random entry is qzzhWtPc1zYauG5 : 0\n",
      "The 3th random entry is FzirTfFY1Buhp55 : 0\n",
      "The 4th random entry is AtXEmaDc1BMvsl2 : 0\n",
      "The 5th random entry is A3JIbz761AJ8Cr5 : 0\n",
      "The number of User Not Found is 877\n"
     ]
    }
   ],
   "source": [
    "import os, json\n",
    "import pandas as pd\n",
    "\n",
    "path_to_json = '../Assignment_1_Resource/jsons'\n",
    "json_files = [pos_json for pos_json in os.listdir(path_to_json) if pos_json.endswith('.json')]\n",
    "\n",
    "count = 0\n",
    "jsonDic = {}\n",
    "for js in json_files:\n",
    "    with open(os.path.join(path_to_json, js)) as json_file:\n",
    "        \n",
    "        data = json.load(json_file) \n",
    "        \n",
    "        userName = data.get(\"name\")\n",
    "        \n",
    "        if userName != 'User Not Found':\n",
    "            userId = data.get(\"dxId\")\n",
    "            jsonDic.update({userId:1})\n",
    "    \n",
    "        else:\n",
    "            userId = data.get(\"message\")     \n",
    "            userId = userId[13:]\n",
    "            count += 1\n",
    "            jsonDic.update({userId:0})\n",
    "\n",
    "import random\n",
    "for i in range(1, 6):\n",
    "    kj = random.choice(jsonDic.keys())\n",
    "    vj = jsonDic[kj]\n",
    "    print \"The \" + str(i) + \"th random entry is \" + str(kj) + \" : \" + str(vj)\n",
    "\n",
    "print \"The number of User Not Found is \" + str(count)\n"
   ]
  },
  {
   "cell_type": "code",
   "execution_count": 78,
   "metadata": {
    "collapsed": false
   },
   "outputs": [
    {
     "ename": "SyntaxError",
     "evalue": "invalid syntax (<ipython-input-78-09e9b1f5c989>, line 1)",
     "output_type": "error",
     "traceback": [
      "\u001b[0;36m  File \u001b[0;32m\"<ipython-input-78-09e9b1f5c989>\"\u001b[0;36m, line \u001b[0;32m1\u001b[0m\n\u001b[0;31m    Question 4\u001b[0m\n\u001b[0m             ^\u001b[0m\n\u001b[0;31mSyntaxError\u001b[0m\u001b[0;31m:\u001b[0m invalid syntax\n"
     ]
    }
   ],
   "source": [
    "Question 4"
   ]
  },
  {
   "cell_type": "code",
   "execution_count": 7,
   "metadata": {
    "collapsed": false
   },
   "outputs": [
    {
     "name": "stdout",
     "output_type": "stream",
     "text": [
      "The user ID is ZvCOSJMp1BtQEp5\n",
      "The first and third party segments are {'third': 0, 'first': 0}\n",
      "The user ID is ABSy3tf91BzpGe5\n",
      "The first and third party segments are {'third': 0, 'first': 0}\n",
      "The user ID is run6Rgjd1BuoAv5\n",
      "The first and third party segments are {'third': 0, 'first': 0}\n",
      "The user ID is rvTjjoAm1AJTZx5\n",
      "The first and third party segments are {'third': 0, 'first': 0}\n",
      "The user ID is WiLPib4d1BHM4i5\n",
      "The first and third party segments are {'third': 0, 'first': 0}\n"
     ]
    }
   ],
   "source": [
    "import os, json\n",
    "import pandas as pd\n",
    "\n",
    "path_to_json = '../Assignment_1_Resource/jsons'\n",
    "json_files = [pos_json for pos_json in os.listdir(path_to_json) if pos_json.endswith('.json')]\n",
    "\n",
    "result = {}\n",
    "for js in json_files:\n",
    "    c1 = 0\n",
    "    c2 = 0\n",
    "    with open(os.path.join(path_to_json, js)) as json_file:     \n",
    "        data = json.load(json_file) \n",
    "        segmentUidList = data.get(\"retargetingSegments\")\n",
    "        \n",
    "        if segmentUidList is not None:\n",
    "            userId = data.get(\"dxId\")\n",
    "            for each in segmentUidList:\n",
    "                \n",
    "                segmentUid = each.get(\"segmentUid\")\n",
    "                start = int(segmentUid[0])\n",
    "                \n",
    "                if(start == 0):\n",
    "                    c1 += 1\n",
    "                    \n",
    "                if(start == 1):\n",
    "                    c2 += 1\n",
    "                    \n",
    "    result[userId] = {}\n",
    "    result[userId][\"first\"] = c1\n",
    "    result[userId][\"third\"] = c2\n",
    "      \n",
    "for i in range(1,6):\n",
    "      uId = random.choice(result.keys())\n",
    "      r = result[key]\n",
    "      print \"The user ID is \" + str(uId)\n",
    "      print \"The first and third party segments are \" + str(r)"
   ]
  },
  {
   "cell_type": "code",
   "execution_count": null,
   "metadata": {
    "collapsed": true
   },
   "outputs": [],
   "source": []
  }
 ],
 "metadata": {
  "kernelspec": {
   "display_name": "Python 2",
   "language": "python",
   "name": "python2"
  },
  "language_info": {
   "codemirror_mode": {
    "name": "ipython",
    "version": 2
   },
   "file_extension": ".py",
   "mimetype": "text/x-python",
   "name": "python",
   "nbconvert_exporter": "python",
   "pygments_lexer": "ipython2",
   "version": "2.7.11"
  }
 },
 "nbformat": 4,
 "nbformat_minor": 0
}
